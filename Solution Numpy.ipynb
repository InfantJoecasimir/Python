{
 "cells": [
  {
   "cell_type": "code",
   "execution_count": 1,
   "metadata": {},
   "outputs": [],
   "source": [
    "import numpy as np"
   ]
  },
  {
   "cell_type": "code",
   "execution_count": 3,
   "metadata": {},
   "outputs": [
    {
     "data": {
      "text/plain": [
       "array([12, 13, 14, 15, 16, 17, 18, 19, 20, 21, 22, 23, 24, 25, 26, 27, 28,\n",
       "       29, 30, 31, 32, 33, 34, 35, 36, 37])"
      ]
     },
     "execution_count": 3,
     "metadata": {},
     "output_type": "execute_result"
    }
   ],
   "source": [
    "#1.\n",
    "np.arange(12,38)"
   ]
  },
  {
   "cell_type": "code",
   "execution_count": 92,
   "metadata": {},
   "outputs": [
    {
     "name": "stdout",
     "output_type": "stream",
     "text": [
      "[[1. 1. 1.]\n",
      " [1. 1. 1.]\n",
      " [1. 1. 1.]]\n",
      "[[0. 0. 0. 0. 0.]\n",
      " [0. 1. 1. 1. 0.]\n",
      " [0. 1. 1. 1. 0.]\n",
      " [0. 1. 1. 1. 0.]\n",
      " [0. 0. 0. 0. 0.]]\n"
     ]
    }
   ],
   "source": [
    "#2.\n",
    "x = np.ones((3,3))\n",
    "print(x)\n",
    "x = np.pad(x, pad_width=1, mode='constant', constant_values=0)\n",
    "print(x)"
   ]
  },
  {
   "cell_type": "code",
   "execution_count": 6,
   "metadata": {},
   "outputs": [
    {
     "data": {
      "text/plain": [
       "array([[1., 1., 1.],\n",
       "       [1., 1., 1.],\n",
       "       [1., 1., 1.]])"
      ]
     },
     "execution_count": 6,
     "metadata": {},
     "output_type": "execute_result"
    }
   ],
   "source": [
    "#3.\n",
    "arr_ones = np.ones((3,3))\n",
    "arr_ones"
   ]
  },
  {
   "cell_type": "code",
   "execution_count": 17,
   "metadata": {},
   "outputs": [
    {
     "name": "stdout",
     "output_type": "stream",
     "text": [
      "List to array: [1 2 3 4 5 6 7 8]\n",
      "tuple to array: [[8 4 6]\n",
      " [1 2 3]]\n"
     ]
    }
   ],
   "source": [
    "# 4. Convert a list and tuple into arrays\n",
    "lst = [1,2,3,4,5,6,7,8]\n",
    "arr = np.array(lst)\n",
    "print(\"List to array:\",arr)\n",
    "# Tuple to array\n",
    "tup_arr =[8,4,6,1,2,3]\n",
    "arr1 = np.array(tup_arr)\n",
    "arr1 = arr1.reshape(2,3)\n",
    "print(\"tuple to array:\",arr1)"
   ]
  },
  {
   "cell_type": "code",
   "execution_count": 25,
   "metadata": {},
   "outputs": [
    {
     "name": "stdout",
     "output_type": "stream",
     "text": [
      "Values in Fahrenheit degrees [0.0, 12.0, 45.21, 34.0, 99.91]\n",
      "Values in Celsius [-17.77777777777778, -11.11111111111111, 7.33888888888889, 1.1111111111111112, 37.727777777777774]\n"
     ]
    }
   ],
   "source": [
    "#5. Convert the values of Centigrade degrees into Fahrenheit degrees\n",
    "Fht=[ 0.,12.,45.21, 34.,99.91]\n",
    "print(\"Values in Fahrenheit degrees\",Fht)\n",
    "Cls=[]\n",
    "for a in Fht:\n",
    "    b= ((a-32) *5)/9\n",
    "    Cls.append(b)\n",
    "print(\"Values in Celsius\",Cls)"
   ]
  },
  {
   "cell_type": "code",
   "execution_count": 32,
   "metadata": {},
   "outputs": [
    {
     "name": "stdout",
     "output_type": "stream",
     "text": [
      "Size  3\n",
      "Length of an array 4\n",
      "Total bytes consumed 12\n"
     ]
    }
   ],
   "source": [
    "\"\"\"Write a NumPy program to find the number of elements of an array, \n",
    "length of one array element in bytes and total bytes consumed by the elements.\"\"\"\n",
    "\n",
    "arr = np.array(np.arange(1,4))\n",
    "arr\n",
    "print(\"Size \",arr.size)\n",
    "print(\"Length of an array\",arr.itemsize)\n",
    "print(\"Total bytes consumed\",arr.nbytes)\n"
   ]
  },
  {
   "cell_type": "code",
   "execution_count": 50,
   "metadata": {},
   "outputs": [
    {
     "name": "stdout",
     "output_type": "stream",
     "text": [
      "Unique records arr1 [10 20 30]\n",
      "unique records [1 2 3]\n"
     ]
    }
   ],
   "source": [
    "#Exercise 6: Get the unique elements of an array\n",
    "arr1 = np.array([10,10,20,20,30,30])\n",
    "arr1\n",
    "unique_arr1 = np.unique(arr1)\n",
    "print(\"Unique records arr1\",unique_arr1)\n",
    "arr2 =np.array([1,1,2,3])\n",
    "arr2 = arr2.reshape(2,2)\n",
    "unique_arr=np.unique(arr2)\n",
    "print(\"unique records\",unique_arr)"
   ]
  },
  {
   "cell_type": "code",
   "execution_count": 54,
   "metadata": {},
   "outputs": [
    {
     "name": "stdout",
     "output_type": "stream",
     "text": [
      "dimension changed [[1 2 3]\n",
      " [4 5 6]\n",
      " [7 8 9]]\n"
     ]
    }
   ],
   "source": [
    "#Change the dimension of an array\n",
    "org_arr = np.array(np.arange(1,10))\n",
    "org_arr\n",
    "reshape_arr= org_arr.reshape(3,3)\n",
    "print(\"dimension changed\",reshape_arr)"
   ]
  },
  {
   "cell_type": "code",
   "execution_count": 56,
   "metadata": {},
   "outputs": [
    {
     "data": {
      "text/plain": [
       "array([2.5       , 2.63793103, 2.77586207, 2.9137931 , 3.05172414,\n",
       "       3.18965517, 3.32758621, 3.46551724, 3.60344828, 3.74137931,\n",
       "       3.87931034, 4.01724138, 4.15517241, 4.29310345, 4.43103448,\n",
       "       4.56896552, 4.70689655, 4.84482759, 4.98275862, 5.12068966,\n",
       "       5.25862069, 5.39655172, 5.53448276, 5.67241379, 5.81034483,\n",
       "       5.94827586, 6.0862069 , 6.22413793, 6.36206897, 6.5       ])"
      ]
     },
     "execution_count": 56,
     "metadata": {},
     "output_type": "execute_result"
    }
   ],
   "source": [
    "lin_arr = np.array(np.linspace(2.5,6.5,30))\n",
    "lin_arr"
   ]
  },
  {
   "cell_type": "code",
   "execution_count": 74,
   "metadata": {},
   "outputs": [
    {
     "data": {
      "text/plain": [
       "array([[10, 40],\n",
       "       [20, 50],\n",
       "       [30, 60]])"
      ]
     },
     "execution_count": 74,
     "metadata": {},
     "output_type": "execute_result"
    }
   ],
   "source": [
    "#Exercise 9: Convert 1-D arrays as columns into a 2-D array\n",
    "arr1 =np.array([10,20,30])\n",
    "arr2 = np.array([40,50,60])\n",
    "np.column_stack((arr1,arr2))"
   ]
  },
  {
   "cell_type": "code",
   "execution_count": 80,
   "metadata": {},
   "outputs": [
    {
     "name": "stdout",
     "output_type": "stream",
     "text": [
      "[[0. 1. 2. 3. 4.]\n",
      " [0. 1. 2. 3. 4.]\n",
      " [0. 1. 2. 3. 4.]\n",
      " [0. 1. 2. 3. 4.]\n",
      " [0. 1. 2. 3. 4.]]\n"
     ]
    }
   ],
   "source": [
    "#Exercise 10: Create a 5x5 matrix with row values ranging from 0 to 4\n",
    "x = np.zeros((5,5))\n",
    "x +=np.arange(5)\n",
    "print(x)"
   ]
  },
  {
   "cell_type": "code",
   "execution_count": 83,
   "metadata": {},
   "outputs": [
    {
     "name": "stdout",
     "output_type": "stream",
     "text": [
      "multiple of 3 or 5  [ 3  5  6  9 10 12 15 18 20 21 24 25 27 30 33 35 36 39 40 42 45 48 50 51\n",
      " 54 55 57 60 63 65 66 69 70 72 75 78 80 81 84 85 87 90 93 95 96 99]\n",
      "sum  2318\n"
     ]
    }
   ],
   "source": [
    "x= np.arange(1,100)\n",
    "res = x[((x%3==0) | (x%5==0))]\n",
    "print(\"multiple of 3 or 5 \",res)\n",
    "print(\"sum \",res.sum())\n"
   ]
  },
  {
   "cell_type": "code",
   "execution_count": 87,
   "metadata": {},
   "outputs": [
    {
     "name": "stdout",
     "output_type": "stream",
     "text": [
      "[0 1 2 3]\n",
      "[[0 1 2 3]\n",
      " [4 5 6 7]]\n",
      "0 : 0\n",
      "1 : 1\n",
      "2 : 2\n",
      "3 : 3\n",
      "0 : 4\n",
      "1 : 5\n",
      "2 : 6\n",
      "3 : 7\n"
     ]
    }
   ],
   "source": [
    "#Exercise 12: Combine a one and a two dimensional array together and display their elements\n",
    "arr1 = np.array(([0,1,2,3]))\n",
    "arr2= np.array(([0,1,2,3],[4,5,6,7]))\n",
    "print(arr1)\n",
    "print(arr2)\n",
    "for a, b in np.nditer([arr1,arr2]):\n",
    "    print(a,\":\",b)\n",
    "    "
   ]
  },
  {
   "cell_type": "code",
   "execution_count": 88,
   "metadata": {},
   "outputs": [
    {
     "name": "stdout",
     "output_type": "stream",
     "text": [
      "Original array:\n",
      "[[0.42436315 0.48558583 0.32924763]\n",
      " [0.7439979  0.58220701 0.38213418]\n",
      " [0.5097581  0.34528799 0.1563123 ]]\n",
      "Replace all elements of the said array with .5 which are greater than .5\n",
      "[[0.42436315 0.48558583 0.32924763]\n",
      " [0.5        0.5        0.38213418]\n",
      " [0.5        0.34528799 0.1563123 ]]\n"
     ]
    }
   ],
   "source": [
    "#Write a NumPy program to replace all elements of NumPy array that are greater than specified array.\n",
    "x = np.array([[ 0.42436315, 0.48558583, 0.32924763], [ 0.7439979,0.58220701,0.38213418], [ 0.5097581,0.34528799,0.1563123 ]])\n",
    "print(\"Original array:\")\n",
    "print(x)\n",
    "print(\"Replace all elements of the said array with .5 which are greater than .5\")\n",
    "x[x > .5] = .5\n",
    "print(x)"
   ]
  },
  {
   "cell_type": "code",
   "execution_count": 90,
   "metadata": {},
   "outputs": [
    {
     "name": "stdout",
     "output_type": "stream",
     "text": [
      "Empty array:\n",
      "[]\n",
      "After adding two new arrays:\n",
      "[[10 20 30]\n",
      " [40 50 60]]\n"
     ]
    }
   ],
   "source": [
    "arr = np.empty((0,3), int)\n",
    "print(\"Empty array:\")\n",
    "print(arr)\n",
    "arr = np.append(arr, np.array([[10,20,30]]), axis=0)\n",
    "arr = np.append(arr, np.array([[40,50,60]]), axis=0)\n",
    "print(\"After adding two new arrays:\")\n",
    "print(arr)"
   ]
  },
  {
   "cell_type": "code",
   "execution_count": 91,
   "metadata": {},
   "outputs": [
    {
     "name": "stdout",
     "output_type": "stream",
     "text": [
      "Original arrays:\n",
      "[1 2 3]\n",
      "[2 3 4]\n",
      "Sequence of arrays along a new axis:\n",
      "[[1 2 3]\n",
      " [2 3 4]]\n",
      "\n",
      "Original arrays:\n",
      "[[1]\n",
      " [2]\n",
      " [3]]\n",
      "\n",
      "[[2]\n",
      " [3]\n",
      " [4]]\n",
      "Sequence of arrays along a new axis:\n",
      "[[1]\n",
      " [2]\n",
      " [3]\n",
      " [2]\n",
      " [3]\n",
      " [4]]\n"
     ]
    }
   ],
   "source": [
    "#Exercise 15: Write a NumPy program to join a sequence of arrays along a new axis.\n",
    "x = np.array([1, 2, 3])\n",
    "y = np.array([2, 3, 4])\n",
    "print(\"Original arrays:\")\n",
    "print(x)\n",
    "print(y)\n",
    "print(\"Sequence of arrays along a new axis:\")\n",
    "print(np.vstack((x, y)))\n",
    "x = np.array([[1], [2], [3]])\n",
    "y = np.array([[2], [3], [4]])\n",
    "print(\"\\nOriginal arrays:\")\n",
    "print(x)\n",
    "print()\n",
    "print(y)\n",
    "print(\"Sequence of arrays along a new axis:\")\n",
    "print(np.vstack((x, y)))\n"
   ]
  },
  {
   "cell_type": "code",
   "execution_count": null,
   "metadata": {},
   "outputs": [],
   "source": []
  }
 ],
 "metadata": {
  "kernelspec": {
   "display_name": "Python 3",
   "language": "python",
   "name": "python3"
  },
  "language_info": {
   "codemirror_mode": {
    "name": "ipython",
    "version": 3
   },
   "file_extension": ".py",
   "mimetype": "text/x-python",
   "name": "python",
   "nbconvert_exporter": "python",
   "pygments_lexer": "ipython3",
   "version": "3.7.3"
  }
 },
 "nbformat": 4,
 "nbformat_minor": 2
}
