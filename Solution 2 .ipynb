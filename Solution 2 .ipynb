{
 "cells": [
  {
   "cell_type": "markdown",
   "metadata": {},
   "source": [
    "1. Write a Python program to find those numbers which are divisible by 7 and multiple of 5, between 1500 and 2700 (both included).\n"
   ]
  },
  {
   "cell_type": "code",
   "execution_count": 77,
   "metadata": {},
   "outputs": [
    {
     "name": "stdout",
     "output_type": "stream",
     "text": [
      "1505,1540,1575,1610,1645,1680,1715,1750,1785,1820,1855,1890,1925,1960,1995,2030,2065,2100,2135,2170,2205,2240,2275,2310,2345,2380,2415,2450,2485,2520,2555,2590,2625,2660,2695\n"
     ]
    }
   ],
   "source": [
    "n=[]\n",
    "for i in range(1500,2701):\n",
    "    if(i%7==0 and i%5==0):\n",
    "        n.append(str(i))\n",
    "print(','.join(n))"
   ]
  },
  {
   "cell_type": "code",
   "execution_count": 1,
   "metadata": {},
   "outputs": [],
   "source": [
    "## 2. Write a Python program to construct the following pattern, using a nested for loop."
   ]
  },
  {
   "cell_type": "code",
   "execution_count": 24,
   "metadata": {},
   "outputs": [
    {
     "name": "stdout",
     "output_type": "stream",
     "text": [
      "* \r\n",
      "* * \r\n",
      "* * * \r\n",
      "* * * * \r\n",
      "* * * * * \r\n",
      "* * * * \r\n",
      "* * * \r\n",
      "* * \r\n",
      "* \r\n",
      "\r\n",
      "\r\n"
     ]
    }
   ],
   "source": [
    "for i in range(0, 5): \n",
    "        for j in range(0, i+1): \n",
    "            print(\"* \",end=\"\")\n",
    "        print(\"\\r\")\n",
    "for i in range(5,-1,-1): \n",
    "        for j in range(0, i-1): \n",
    "            print(\"* \",end=\"\")\n",
    "        print(\"\\r\")\n",
    "   "
   ]
  },
  {
   "cell_type": "code",
   "execution_count": 27,
   "metadata": {},
   "outputs": [
    {
     "name": "stdout",
     "output_type": "stream",
     "text": [
      "Even Number 3\n",
      "Odd Number 5\n"
     ]
    }
   ],
   "source": [
    "#Write a Python program to find the greatest common divisor (gcd) of two integers.\n",
    "\n",
    "lst_num = [1,3,5,6,7,8,9,10]\n",
    "even_no, odd_no = 0,0\n",
    "for i in lst_num:\n",
    "    if(i%2==0):\n",
    "        even_no = even_no+1\n",
    "    else:\n",
    "        odd_no = odd_no+1\n",
    "print(\"Number of even numbers\",even_no)\n",
    "print(\"Number of odd numbers\",odd_no)"
   ]
  },
  {
   "cell_type": "code",
   "execution_count": 36,
   "metadata": {},
   "outputs": [
    {
     "name": "stdout",
     "output_type": "stream",
     "text": [
      "200,202,204,206,208,220,222,224,226,228,240,242,244,246,248,260,262,264,266,268,280,282,284,286,288,400\n"
     ]
    }
   ],
   "source": [
    "### 4. Write a Python program to find numbers between 100 and 400 (both included) where each digit of a number is an even number. The numbers obtained should be printed in a comma-separated sequence.\n",
    "items = []\n",
    "for i in range(100, 401):\n",
    "    s = str(i)\n",
    "    if (int(s[0])%2==0) and (int(s[1])%2==0) and (int(s[2])%2==0):\n",
    "items.append(s)\n",
    "print( \",\".join(items))"
   ]
  },
  {
   "cell_type": "code",
   "execution_count": 38,
   "metadata": {},
   "outputs": [
    {
     "name": "stdout",
     "output_type": "stream",
     "text": [
      "20\n",
      "93.0\n"
     ]
    }
   ],
   "source": [
    "#For the first two years, a dog year is equal to 10.5 human years. After that, each dog year equals 4 human years.\n",
    "\n",
    "dog_age = int(input())\n",
    "if(dog_age<=2):\n",
    "    human_yrs = dog_age*10.5\n",
    "else:\n",
    "    temp = dog_age - 2\n",
    "    human_yrs = temp*4 + 2*10.5\n",
    "print(human_yrs)"
   ]
  },
  {
   "cell_type": "code",
   "execution_count": 41,
   "metadata": {},
   "outputs": [
    {
     "name": "stdout",
     "output_type": "stream",
     "text": [
      "6\n"
     ]
    }
   ],
   "source": [
    "#Write a Python function to find the Max of three numbers\n",
    "\n",
    "lst = (3, 6, -5)\n",
    "print(max(lst))"
   ]
  },
  {
   "cell_type": "code",
   "execution_count": 50,
   "metadata": {},
   "outputs": [
    {
     "name": "stdout",
     "output_type": "stream",
     "text": [
      "10\n",
      "The given number is odd\n"
     ]
    }
   ],
   "source": [
    "#given number is prime or not\n",
    "def primenumber(n):\n",
    "    if(n<=1):\n",
    "        return false\n",
    "    for i in range(2,n):\n",
    "        if(n%i==0):\n",
    "            return False\n",
    "    return True\n",
    "\n",
    "n = int(input())\n",
    "if(primenumber(n)):\n",
    "    print(\"The given number is prime\")\n",
    "else:\n",
    "    print(\"The given number is odd\")"
   ]
  },
  {
   "cell_type": "code",
   "execution_count": 67,
   "metadata": {},
   "outputs": [
    {
     "name": "stdout",
     "output_type": "stream",
     "text": [
      "Inceptz is One of The BeSt Places TO LEarn DataSciEnce\n",
      "The upper case: 13\n",
      "The lower case: 32\n"
     ]
    }
   ],
   "source": [
    "#count upper case and lower case\n",
    "def cnt_UpperandLower(str_input):\n",
    "    \n",
    "    upper_case=0\n",
    "    lowercase=0\n",
    "\n",
    "    for i in str_input:\n",
    "        if(i.isupper()):\n",
    "            upper_case=upper_case+1\n",
    "        elif(i.islower()):\n",
    "            lowercase=lowercase+1\n",
    "    print(\"The upper case:\",upper_case)\n",
    "    print(\"The lower case:\",lowercase)\n",
    "    \n",
    "            \n",
    "str_input = input()\n",
    "cnt_UpperandLower(str_input)\n",
    "\n",
    "\n"
   ]
  },
  {
   "cell_type": "code",
   "execution_count": 74,
   "metadata": {},
   "outputs": [
    {
     "name": "stdout",
     "output_type": "stream",
     "text": [
      "THe uliy\n",
      "yilu eHT\n"
     ]
    }
   ],
   "source": [
    "# reverse a string\n",
    "str_input = str(input())\n",
    "print(''.join(reversed(str_input)))"
   ]
  },
  {
   "cell_type": "code",
   "execution_count": 76,
   "metadata": {},
   "outputs": [
    {
     "name": "stdout",
     "output_type": "stream",
     "text": [
      "12\n"
     ]
    }
   ],
   "source": [
    "#Write a Python program to find the greatest common divisor (gcd) of two integers.\n",
    "def computegcd(x,y):\n",
    "    while(y):\n",
    "        x,y = y,x%y\n",
    "    return x\n",
    "\n",
    "x=computegcd(12,48)\n",
    "print(x)"
   ]
  },
  {
   "cell_type": "code",
   "execution_count": null,
   "metadata": {},
   "outputs": [],
   "source": []
  }
 ],
 "metadata": {
  "kernelspec": {
   "display_name": "Python 3",
   "language": "python",
   "name": "python3"
  },
  "language_info": {
   "codemirror_mode": {
    "name": "ipython",
    "version": 3
   },
   "file_extension": ".py",
   "mimetype": "text/x-python",
   "name": "python",
   "nbconvert_exporter": "python",
   "pygments_lexer": "ipython3",
   "version": "3.7.3"
  }
 },
 "nbformat": 4,
 "nbformat_minor": 2
}
